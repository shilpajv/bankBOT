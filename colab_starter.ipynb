{
  "nbformat": 4,
  "nbformat_minor": 0,
  "metadata": {
    "colab": {
      "name": "Copy of colab_starter.ipynb",
      "provenance": [],
      "collapsed_sections": [],
      "toc_visible": true
    },
    "kernelspec": {
      "name": "python3",
      "display_name": "Python 3"
    },
    "accelerator": "GPU"
  },
  "cells": [
    {
      "cell_type": "code",
      "metadata": {
        "id": "DXPMB4syxTCF",
        "outputId": "7e7f06a0-31c3-4a35-fcc8-db510d7dd2c1",
        "colab": {
          "base_uri": "https://localhost:8080/"
        }
      },
      "source": [
        "!pip install colabcode"
      ],
      "execution_count": null,
      "outputs": [
        {
          "output_type": "stream",
          "text": [
            "Collecting colabcode\n",
            "  Downloading https://files.pythonhosted.org/packages/5d/d5/4f9db2a4fe80f507c9c44c2cd4fd614234c1fe0d77e8f1101329997a19cd/colabcode-0.0.9-py3-none-any.whl\n",
            "Collecting pyngrok>=5.0.0\n",
            "  Downloading https://files.pythonhosted.org/packages/ea/63/e086f165125e9bf2e71c0db2955911baaaa0af8947ab5c7b3771bdf4d4d5/pyngrok-5.0.0.tar.gz\n",
            "Requirement already satisfied: PyYAML in /usr/local/lib/python3.6/dist-packages (from pyngrok>=5.0.0->colabcode) (3.13)\n",
            "Building wheels for collected packages: pyngrok\n",
            "  Building wheel for pyngrok (setup.py) ... \u001b[?25l\u001b[?25hdone\n",
            "  Created wheel for pyngrok: filename=pyngrok-5.0.0-cp36-none-any.whl size=18780 sha256=a6a44ebfd1990f6086367a5c4053e83802c3d0755e7076977391e809a27aacf5\n",
            "  Stored in directory: /root/.cache/pip/wheels/95/df/23/af8dde08c3fcdc7b966adcacef48ab29aa3b0b1860df5d2b79\n",
            "Successfully built pyngrok\n",
            "Installing collected packages: pyngrok, colabcode\n",
            "Successfully installed colabcode-0.0.9 pyngrok-5.0.0\n"
          ],
          "name": "stdout"
        }
      ]
    },
    {
      "cell_type": "code",
      "metadata": {
        "id": "txznnS0b-kqQ",
        "outputId": "599b1101-fbd2-4571-a23b-8b357c6ac97b",
        "colab": {
          "base_uri": "https://localhost:8080/"
        }
      },
      "source": [
        "from google.colab import drive\n",
        "drive.mount('/drive')"
      ],
      "execution_count": null,
      "outputs": [
        {
          "output_type": "stream",
          "text": [
            "Mounted at /drive\n"
          ],
          "name": "stdout"
        }
      ]
    },
    {
      "cell_type": "code",
      "metadata": {
        "id": "jPNTUYTDxbkC"
      },
      "source": [
        "from colabcode import ColabCode"
      ],
      "execution_count": null,
      "outputs": []
    },
    {
      "cell_type": "code",
      "metadata": {
        "id": "M6bGiCAGxilQ",
        "outputId": "6c0bcfa7-ba0f-42cd-eaef-8a01cdbb281b",
        "colab": {
          "base_uri": "https://localhost:8080/"
        }
      },
      "source": [
        "ColabCode(port=10000, password=None)"
      ],
      "execution_count": null,
      "outputs": [
        {
          "output_type": "stream",
          "text": [
            "Code Server can be accessed on: NgrokTunnel: \"http://476538e0a775.ngrok.io\" -> \"http://localhost:10000\"\n",
            "[2020-11-04T11:59:19.553Z] info  Using user-data-dir ~/.local/share/code-server\n",
            "[2020-11-04T11:59:19.560Z] info  code-server 3.6.2 9bde62fbd611a7a91c5f327fa43e0d06f1379169\n",
            "[2020-11-04T11:59:19.560Z] info  Using config file ~/.config/code-server/config.yaml\n",
            "[2020-11-04T11:59:19.566Z] info  HTTP server listening on http://127.0.0.1:10000\n",
            "[2020-11-04T11:59:19.566Z] info    - No authentication\n",
            "[2020-11-04T11:59:19.566Z] info    - Not serving HTTPS\n",
            "error vscode Handshake timed out \u001b[38;2;140;140;140m{\"token\":\"87e8035e-04e7-42df-aac3-bfb4445a8729\"}\u001b[0m\n",
            "info  exthost \n",
            "<--- Last few GCs --->\n",
            "\n",
            "[1168:0x3aa0000]  5873033 ms: Mark-sweep 2045.6 (2051.2) -> 2045.1 (2051.5) MB, 3042.3 / 0.0 ms  (average mu = 0.343, current mu = 0.331) allocation failure scavenge might not succeed\n",
            "[1168:0x3aa0000]  5876808 ms: Mark-sweep 2045.8 (2051.5) -> 2045.4 (2051.7) MB, 3088.4 / 0.0 ms  (average mu = 0.263, current mu = 0.182) allocation failure scavenge might not succeed\n",
            "\n",
            "\n",
            "<--- JS stacktrace --->\n",
            "\n",
            "==== JS stack trace =========================================\n",
            "\n",
            "    0: ExitFrame [pc: 0x13cf099]\n",
            "Security context: 0x11fa9ca408d1 <JSObject>\n",
            "    1: /* anonymous */ [0x38039bc841e9] [net.js:~577] [pc=0xcf2b15f4585](this=0x31a75b923b01 <Socket map = 0x11fcbb523cf9>,16384)\n",
            "    2: /* anonymous */ [0x307c84d334f9] [_stream_readable.js:~376] [pc=0xcf2b151cb97](this=0x31a75b923b01 <Socket map = 0x11fcbb523cf9>,0)\n",
            "    3: maybeReadMore_(aka maybeReadMore_) [0x2c6a28f19af9] [_stream_readable.js:~586] [pc=0xcf2b...\n",
            "\n",
            " \u001b[38;2;140;140;140m{\"token\":\"f6fd0de2-b60b-4ace-96a7-a41447cdb72c\"}\u001b[0m\n",
            "error exthost FATAL ERROR: Ineffective mark-compacts near heap limit Allocation failed - JavaScript heap out of memory\n",
            " 1: 0xa093f0 node::Abort() [/usr/lib/code-server/lib/node]\n",
            " 2: 0xa097fc node::OnFatalError(char const*, char const*) [/usr/lib/code-server/lib/node]\n",
            " 3: 0xb8431e v8::Utils::ReportOOMFailure(v8::internal::Isolate*, char const*, bool) [/usr/lib/code-server/lib/node]\n",
            " 4: 0xb84699 v8::internal::V8::FatalProcessOutOfMemory(v8::internal::Isolate*, char const*, bool) [/usr/lib/code-server/lib/node]\n",
            " \u001b[38;2;140;140;140m{\"token\":\"f6fd0de2-b60b-4ace-96a7-a41447cdb72c\"}\u001b[0m\n",
            "error exthost  5: 0xd31055  [/usr/lib/code-server/lib/node]\n",
            " \u001b[38;2;140;140;140m{\"token\":\"f6fd0de2-b60b-4ace-96a7-a41447cdb72c\"}\u001b[0m\n",
            "error exthost  6: 0xd316e6 v8::internal::Heap::RecomputeLimits(v8::internal::GarbageCollector) [/usr/lib/code-server/lib/node]\n",
            " \u001b[38;2;140;140;140m{\"token\":\"f6fd0de2-b60b-4ace-96a7-a41447cdb72c\"}\u001b[0m\n",
            "error exthost  7: 0xd3df65 v8::internal::Heap::PerformGarbageCollection(v8::internal::GarbageCollector, v8::GCCallbackFlags) [/usr/lib/code-server/lib/node]\n",
            " \u001b[38;2;140;140;140m{\"token\":\"f6fd0de2-b60b-4ace-96a7-a41447cdb72c\"}\u001b[0m\n",
            "error exthost  8: 0xd3ee15 v8::internal::Heap::CollectGarbage(v8::internal::AllocationSpace, v8::internal::GarbageCollectionReason, v8::GCCallbackFlags) [/usr/lib/code-server/lib/node]\n",
            " \u001b[38;2;140;140;140m{\"token\":\"f6fd0de2-b60b-4ace-96a7-a41447cdb72c\"}\u001b[0m\n",
            "error exthost  9: 0xd418cc v8::internal::Heap::AllocateRawWithRetryOrFail(int, v8::internal::AllocationType, v8::internal::AllocationOrigin, v8::internal::AllocationAlignment) [/usr/lib/code-server/lib/node]\n",
            " \u001b[38;2;140;140;140m{\"token\":\"f6fd0de2-b60b-4ace-96a7-a41447cdb72c\"}\u001b[0m\n",
            "error exthost 10: 0xd0837b v8::internal::Factory::NewFillerObject(int, bool, v8::internal::AllocationType, v8::internal::AllocationOrigin) [/usr/lib/code-server/lib/node]\n",
            " \u001b[38;2;140;140;140m{\"token\":\"f6fd0de2-b60b-4ace-96a7-a41447cdb72c\"}\u001b[0m\n",
            "error exthost 11: 0x1049fbe v8::internal::Runtime_AllocateInYoungGeneration(int, unsigned long*, v8::internal::Isolate*) [/usr/lib/code-server/lib/node]\n",
            " \u001b[38;2;140;140;140m{\"token\":\"f6fd0de2-b60b-4ace-96a7-a41447cdb72c\"}\u001b[0m\n",
            "error exthost 12: 0x13cf099  [/usr/lib/code-server/lib/node]\n",
            " \u001b[38;2;140;140;140m{\"token\":\"f6fd0de2-b60b-4ace-96a7-a41447cdb72c\"}\u001b[0m\n"
          ],
          "name": "stdout"
        }
      ]
    },
    {
      "cell_type": "code",
      "metadata": {
        "id": "X3bmR79NEnHi"
      },
      "source": [
        ""
      ],
      "execution_count": null,
      "outputs": []
    }
  ]
}