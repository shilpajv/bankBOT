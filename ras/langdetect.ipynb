{
 "metadata": {
  "language_info": {
   "codemirror_mode": {
    "name": "ipython",
    "version": 3
   },
   "file_extension": ".py",
   "mimetype": "text/x-python",
   "name": "python",
   "nbconvert_exporter": "python",
   "pygments_lexer": "ipython3",
   "version": "3.6.9-final"
  },
  "orig_nbformat": 2,
  "kernelspec": {
   "name": "Python 3.6.9 64-bit",
   "display_name": "Python 3.6.9 64-bit",
   "metadata": {
    "interpreter": {
     "hash": "31f2aee4e71d21fbe5cf8b01ff0e069b9275f58929596ceb00d14d90e3e16cd6"
    }
   }
  }
 },
 "nbformat": 4,
 "nbformat_minor": 2,
 "cells": [
  {
   "source": [
    "import pandas as pd"
   ],
   "cell_type": "code",
   "metadata": {},
   "execution_count": 2,
   "outputs": []
  },
  {
   "cell_type": "code",
   "execution_count": 3,
   "metadata": {},
   "outputs": [],
   "source": [
    "train = pd.read_csv('./lang_detect_train.csv')\n",
    "test = pd.read_csv('./lang_detect_test.csv')"
   ]
  },
  {
   "cell_type": "code",
   "execution_count": 4,
   "metadata": {},
   "outputs": [],
   "source": [
    "train = train[train.tamil!=1]\n",
    "test = test[test.tamil!=1]"
   ]
  },
  {
   "cell_type": "code",
   "execution_count": 5,
   "metadata": {},
   "outputs": [],
   "source": [
    "train = train[train.hindi!=train.english]\n",
    "test = test[test.hindi!=test.english]"
   ]
  },
  {
   "cell_type": "code",
   "execution_count": 6,
   "metadata": {},
   "outputs": [],
   "source": [
    "train_x = train.text\n",
    "train_y = train[['hindi','english']].apply(lambda x:'hindi' if x.values[0]==1 else 'english',axis=1)\n",
    "test_x = test.text\n",
    "test_y = test[['hindi','english']].apply(lambda x:'hindi' if x.values[0]==1 else 'english',axis=1)"
   ]
  },
  {
   "cell_type": "code",
   "execution_count": 7,
   "metadata": {},
   "outputs": [],
   "source": [
    "train_x = [f\"__label__{y} {x}\" for x,y in zip(train_x,train_y)]\n",
    "test_x = [f\"__label__{y} {x}\" for x,y in zip(test_x,test_y)]"
   ]
  },
  {
   "cell_type": "code",
   "execution_count": 9,
   "metadata": {},
   "outputs": [
    {
     "output_type": "execute_result",
     "data": {
      "text/plain": [
       "['__label__english How to apply for home loan',\n",
       " '__label__english what are the Documents that are required for home loan ',\n",
       " '__label__english What Is the Interest Rate and Annual Percentage Rate',\n",
       " '__label__english Is There a Prepayment Penalty',\n",
       " '__label__english How Much Time Do You Need to Fund',\n",
       " '__label__english Home loan eligibility',\n",
       " '__label__english How to check my monthly emi',\n",
       " '__label__english How does tenure affect cost of loan',\n",
       " '__label__english What security will i have to provide',\n",
       " '__label__english maximum tenure for home loan',\n",
       " '__label__english will i get tax benefit on the loan',\n",
       " '__label__english Can I get instant digital approval',\n",
       " '__label__english Types of home loans available ',\n",
       " '__label__english Average tenure for home loan',\n",
       " '__label__english How is the EMI calculated',\n",
       " '__label__english How to check my credit score ',\n",
       " '__label__english What do banks consider when granting a home loan',\n",
       " '__label__english Can I apply for a joint loan with my friend',\n",
       " '__label__english Who can be joint borrowers in case of a home loan',\n",
       " '__label__english What is the maximum number of joint borrowers for a home loan',\n",
       " '__label__english How do I repay my home loan',\n",
       " '__label__english Is prepayment of home loan allowed',\n",
       " '__label__english What are the key charges associated with a home loan process',\n",
       " '__label__english Can I have a co-applicant when I sign up for a home loan',\n",
       " '__label__english Is having a good credit record important in case of a home loan',\n",
       " '__label__english How long is the home loan pre-approval valid',\n",
       " '__label__english What is EMI',\n",
       " '__label__english When do i start repaying the principal amount',\n",
       " '__label__english Can i repay my loan ahead of schedule',\n",
       " '__label__english How to apply for credit card',\n",
       " '__label__english penalty on late payment',\n",
       " '__label__english Can I choose my payment due date',\n",
       " '__label__english How to increase my card limit',\n",
       " '__label__english how to check offers on my card',\n",
       " '__label__english Lost my credit card',\n",
       " '__label__english how to upgrade my card',\n",
       " '__label__english how to convert my bill to EMI',\n",
       " '__label__english How to change credit card pin ',\n",
       " '__label__english How to block my credit card',\n",
       " '__label__english where can i get credit card statement ',\n",
       " '__label__english How to link my account with my card',\n",
       " '__label__english How o activate my card',\n",
       " '__label__english is there a processing fee',\n",
       " '__label__english Will you lower my interest rate?',\n",
       " '__label__english Which\\xa0credit\\xa0score\\xa0do\\xa0you use',\n",
       " '__label__english Does your card offer any promotional rates',\n",
       " '__label__english Does your card offer any unique benefits',\n",
       " '__label__english how to change address connected to card',\n",
       " '__label__english how fraud transactions are avoided ',\n",
       " '__label__english What Is Your Policy on Credit Card Fraud',\n",
       " '__label__english how to change my phone number connected to card',\n",
       " '__label__english what is the withdrawl limit for credit card',\n",
       " '__label__hindi hom loan ke liye apply kyse kare',\n",
       " '__label__hindi hom loan ke liye jaruri document kya hai',\n",
       " '__label__hindi interest rate or annual percentage rate kya hai',\n",
       " '__label__hindi kya koi pre payment penalty vi hai',\n",
       " '__label__hindi aapko loan dene me kitna time lagega',\n",
       " '__label__hindi hom loan ke liye eligibility criteria kya hai',\n",
       " '__label__hindi mai apna monthly emi kyse check kar sakta hu',\n",
       " '__label__hindi Tenure loan ke cost ko kyse affect karta hai',\n",
       " '__label__hindi Mujhe konsi suraksha di jayegi',\n",
       " '__label__hindi home loan ka maximum tenure kya hai',\n",
       " '__label__hindi kya mujhe loan pe tax benefit milega',\n",
       " '__label__hindi kya mujhe jald digital approval mil sakta hai',\n",
       " '__label__hindi kitne type ke loan available hai',\n",
       " '__label__hindi hom loan ka average tenure kya hai',\n",
       " '__label__hindi emi kyse calculate krte hai',\n",
       " '__label__hindi mai credit score kyse check kar sakta hu',\n",
       " '__label__hindi hom loan grant krte time bank kya consider karte hai',\n",
       " '__label__hindi kya mai apne friend ke sath joint loan ke liye apply kar sakta hu',\n",
       " '__label__hindi hom loan ke liye joint borrowers kon ho sakta hai',\n",
       " '__label__hindi hom loan ke liye maximum joint borrowers kitne ho sakte hai',\n",
       " '__label__hindi mai apna hom loan kyse dunga',\n",
       " '__label__hindi kya hom loan ka prepayment allowed hai',\n",
       " '__label__hindi hom loan ke hidden changes kya hai',\n",
       " '__label__hindi kya mai co-applicant ho sakta hu , jab mai hom loan ke liye apply karu',\n",
       " '__label__hindi kya acha credit record jaruri hai hom loan ke liye',\n",
       " '__label__hindi hom loan ka pre-approval kab tak valid rahega',\n",
       " '__label__hindi emi kya hai',\n",
       " '__label__hindi mai kab principal ammount ka repayment start kr sakta hu',\n",
       " '__label__hindi kya mai loan ka payment loan schedule hone se pahle start kr sakta hu',\n",
       " '__label__hindi credit card ke liye kyse apply karte hai',\n",
       " '__label__hindi late payment pe kya penalty hai',\n",
       " '__label__hindi kya mai apna payment dene ka din choose kr sakta hu',\n",
       " '__label__hindi apne card ka limit kyse increase karte hai',\n",
       " '__label__hindi card pe offer kyse check karte hai',\n",
       " '__label__hindi mera credit card kho gya hai',\n",
       " '__label__hindi credit card ko upgrage kyse kare',\n",
       " '__label__hindi apne bill ko emi me kase convert kare',\n",
       " '__label__hindi credit card ka pin kyse check karu',\n",
       " '__label__hindi credit card ko kyse block kar sakta hu',\n",
       " '__label__hindi credit card ka statement kaha milega',\n",
       " '__label__hindi apna account ko credit card se link kyse krte hai',\n",
       " '__label__hindi card activate kyse karte hai',\n",
       " '__label__hindi kya koi processing fee hai',\n",
       " '__label__hindi kya aap mera interest rate kam kar sakte ho',\n",
       " '__label__hindi aap konsa credit score use krte ho',\n",
       " '__label__hindi kya aapka card koi promotional rates offer karta hai',\n",
       " '__label__hindi kya aaoka card koi unique benefits offer karta hai',\n",
       " '__label__hindi apna address kyse change kar sakte hai',\n",
       " '__label__hindi fraud transactions se kyse bacha jata hai',\n",
       " '__label__hindi credit card fraud ko lekr aapki policy kya hai',\n",
       " '__label__hindi card se connected phone number kyse change kr sakte hai',\n",
       " '__label__hindi credit card ki withdrawl limit kya hai',\n",
       " '__label__hindi home loan ka madad chahiye',\n",
       " '__label__hindi home lone ke documents batao',\n",
       " '__label__english interest rate annual percentage s bad',\n",
       " '__label__hindi mera app na chalta fail  ho raha login',\n",
       " '__label__hindi muje refund chahye',\n",
       " '__label__hindi home loan ka eligibility pata lagana hai',\n",
       " '__label__english can open account in your bank',\n",
       " '__label__english want to do biometric verification ',\n",
       " '__label__hindi fund transfer ni ho Raha sir jee',\n",
       " '__label__hindi mujhe naya ATM card chahye',\n",
       " '__label__hindi mere paas wala branch location kya hai',\n",
       " '__label__english home loan  types ',\n",
       " '__label__english Average tenure for home loan',\n",
       " '__label__english how to calculate EMI',\n",
       " '__label__english how to add  payee',\n",
       " '__label__hindi personal loan ka process kaha se pata chalega',\n",
       " '__label__hindi  joint home loan apply hota maloom nai',\n",
       " '__label__hindi y my card  is not activated',\n",
       " '__label__hindi upi pin set karne mein diikkat aa rahi hai',\n",
       " '__label__hindi hello sir kya aap meri madad karenge',\n",
       " '__label__english EMI how much',\n",
       " '__label__hindi amount deduct ho gaya  refund na mila',\n",
       " '__label__hindi credit card kho gaya kaise block karu',\n",
       " '__label__hindi mere credt card se kisine paise transfer kia',\n",
       " '__label__hindi branch manager se baat ho na pa raha',\n",
       " '__label__english credit card limit  to be max',\n",
       " '__label__english credit card offers are good',\n",
       " '__label__english credit card pin changed',\n",
       " '__label__hindi credit card statement  kaha se download karein',\n",
       " '__label__english card  card activate failed',\n",
       " '__label__english processing fee  not low',\n",
       " '__label__english unique benefits are there',\n",
       " '__label__hindi address badalna hai',\n",
       " '__label__hindi fraud transaction report hoga ya na',\n",
       " '__label__english credit card fraud policy maloom na hain',\n",
       " '__label__hindi phone number change ho gye mera',\n",
       " '__label__english debt card withdrawal limit']"
      ]
     },
     "metadata": {},
     "execution_count": 9
    }
   ],
   "source": [
    "test2 = pd.read_csv(\"./lang_detect_holdout.csv\")\n",
    "test_x2 = [f\"__label__{y} {x}\" for x,y in zip(test2.text,test2.actual_lang)]\n",
    "test_x2.to_csv(\"./test2.txt\", index=False, sep=' ', header=False, quoting=csv.QUOTE_NONE, quotechar=\"\", escapechar=\" \")"
   ]
  },
  {
   "cell_type": "code",
   "execution_count": 12,
   "metadata": {},
   "outputs": [],
   "source": [
    "import csv\n",
    "pd.Series(test_x2).to_csv(\"./test2.txt\", index=False, sep=' ', header=False, quoting=csv.QUOTE_NONE, quotechar=\"\", escapechar=\" \")"
   ]
  },
  {
   "cell_type": "code",
   "execution_count": 38,
   "metadata": {},
   "outputs": [],
   "source": [
    "import csv\n",
    "train_x = pd.Series(train_x)\n",
    "train_x.to_csv(\"./train.txt\", index=False, sep=' ', header=False, quoting=csv.QUOTE_NONE, quotechar=\"\", escapechar=\" \")\n",
    "test_x = pd.Series(test_x)\n",
    "test_x.to_csv(\"./test.txt\", index=False, sep=' ', header=False, quoting=csv.QUOTE_NONE, quotechar=\"\", escapechar=\" \")"
   ]
  },
  {
   "cell_type": "code",
   "execution_count": 5,
   "metadata": {},
   "outputs": [
    {
     "output_type": "stream",
     "name": "stdout",
     "text": [
      "(46847, 0.9982709671910688, 0.9982709671910688)\n(46847, 0.5, 1.0)\nCPU times: user 17.9 s, sys: 466 ms, total: 18.4 s\nWall time: 24.2 s\n"
     ]
    }
   ],
   "source": [
    "%%time\n",
    "import fasttext \n",
    "model = fasttext.train_supervised(input=\"train.txt\")\n",
    "print(model.test('test.txt'))\n",
    "print(model.test('test.txt',k=5))"
   ]
  },
  {
   "cell_type": "code",
   "execution_count": 6,
   "metadata": {},
   "outputs": [
    {
     "output_type": "stream",
     "name": "stdout",
     "text": [
      "(46847, 0.9982282750229471, 0.9982282750229471)\n(46847, 0.5, 1.0)\nCPU times: user 2min 45s, sys: 2.6 s, total: 2min 48s\nWall time: 3min 54s\n"
     ]
    }
   ],
   "source": [
    "%%time\n",
    "model2 = fasttext.train_supervised(input=\"train.txt\",epoch=25,lr=1,wordNgrams=2)\n",
    "print(model2.test('test.txt'))\n",
    "print(model2.test('test.txt',k=5))"
   ]
  },
  {
   "cell_type": "code",
   "execution_count": 18,
   "metadata": {},
   "outputs": [],
   "source": [
    "model2.save_model('./model2.bin')"
   ]
  },
  {
   "cell_type": "code",
   "execution_count": 19,
   "metadata": {},
   "outputs": [
    {
     "output_type": "stream",
     "name": "stderr",
     "text": [
      "Warning : `load_model` does not return WordVectorModel or SupervisedModel any more, but a `FastText` object which is very similar.\n"
     ]
    },
    {
     "output_type": "execute_result",
     "data": {
      "text/plain": [
       "(141, 0.9078014184397163, 0.9078014184397163)"
      ]
     },
     "metadata": {},
     "execution_count": 19
    }
   ],
   "source": [
    "import fasttext \n",
    "model =fasttext.load_model('./model2.bin')\n",
    "model.test('./test2.txt')"
   ]
  },
  {
   "cell_type": "code",
   "execution_count": 18,
   "metadata": {},
   "outputs": [
    {
     "output_type": "execute_result",
     "data": {
      "text/plain": [
       "(('__label__english',), array([0.99469852]))"
      ]
     },
     "metadata": {},
     "execution_count": 18
    }
   ],
   "source": [
    "model.predict('')"
   ]
  },
  {
   "cell_type": "code",
   "execution_count": null,
   "metadata": {},
   "outputs": [],
   "source": []
  }
 ]
}