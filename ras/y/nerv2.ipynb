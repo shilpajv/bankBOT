{
 "metadata": {
  "language_info": {
   "codemirror_mode": {
    "name": "ipython",
    "version": 3
   },
   "file_extension": ".py",
   "mimetype": "text/x-python",
   "name": "python",
   "nbconvert_exporter": "python",
   "pygments_lexer": "ipython3",
   "version": "3.6.9-final"
  },
  "orig_nbformat": 2,
  "kernelspec": {
   "name": "Python 3.6.9 64-bit",
   "display_name": "Python 3.6.9 64-bit",
   "metadata": {
    "interpreter": {
     "hash": "30295c5bec572e859485b1ffa5e89b8b3e2022ef6e3e739c1ac40f143a557caf"
    }
   }
  }
 },
 "nbformat": 4,
 "nbformat_minor": 2,
 "cells": [
  {
   "cell_type": "code",
   "execution_count": 3,
   "metadata": {},
   "outputs": [],
   "source": [
    "from modules_helping import *"
   ]
  },
  {
   "cell_type": "code",
   "execution_count": 20,
   "metadata": {},
   "outputs": [
    {
     "output_type": "stream",
     "name": "stderr",
     "text": [
      "Warning : `load_model` does not return WordVectorModel or SupervisedModel any more, but a `FastText` object which is very similar.\n",
      "Warning : `load_model` does not return WordVectorModel or SupervisedModel any more, but a `FastText` object which is very similar.\n",
      "second level for Hinglish [('en', 1.0000100135803223)]\n"
     ]
    },
    {
     "output_type": "execute_result",
     "data": {
      "text/plain": [
       "{'account_number': [],\n",
       " 'currency': ([], []),\n",
       " 'currency_range': ([{'abs_value': None,\n",
       "    'max_value': '20000',\n",
       "    'min_value': '10000',\n",
       "    'unit': None},\n",
       "   {'abs_value': None, 'max_value': '50000', 'min_value': '40', 'unit': None}],\n",
       "  ['10k- 20k', '40-50k']),\n",
       " 'date': ([], []),\n",
       " 'language': 'en',\n",
       " 'normalized_message': '10k- 20k 40-50k',\n",
       " 'numbers_in_message': '10k 20000 40 50k ',\n",
       " 'phone_number': ([], []),\n",
       " 'time': ([], [])}"
      ]
     },
     "metadata": {},
     "execution_count": 20
    }
   ],
   "source": [
    "text = \"10k- 20k 40-50k\"\n",
    "get_user_values(text)"
   ]
  },
  {
   "cell_type": "code",
   "execution_count": null,
   "metadata": {},
   "outputs": [],
   "source": []
  }
 ]
}